{
 "cells": [
  {
   "cell_type": "code",
   "execution_count": 10,
   "metadata": {},
   "outputs": [
    {
     "data": {
      "application/vnd.jupyter.widget-view+json": {
       "model_id": "71ef72732bb34dd1a1034b56788603c4",
       "version_major": 2,
       "version_minor": 0
      },
      "text/plain": [
       "Canvas(toolbar=Toolbar(toolitems=[('Home', 'Reset original view', 'home', 'home'), ('Back', 'Back to previous …"
      ]
     },
     "metadata": {},
     "output_type": "display_data"
    },
    {
     "data": {
      "application/vnd.jupyter.widget-view+json": {
       "model_id": "a8b6d489c3424263a7fbecb62ea7355f",
       "version_major": 2,
       "version_minor": 0
      },
      "text/plain": [
       "interactive(children=(IntSlider(value=100, description='f', layout=Layout(width='700px'), max=500, min=100, re…"
      ]
     },
     "metadata": {},
     "output_type": "display_data"
    }
   ],
   "source": [
    "%matplotlib widget\n",
    "from ipywidgets import *\n",
    "import numpy as np\n",
    "import matplotlib.pyplot as plt\n",
    "import pandas as pd\n",
    "\n",
    "splge = np.arange(1.0,11.0)\n",
    "splun = np.arange(1.0,11.0)\n",
    "\n",
    "x = np.arange(1,11)\n",
    "fig = plt.figure()\n",
    "ax = fig.add_subplot(1, 1, 1)\n",
    "plt.xlim(0, 550)\n",
    "plt.ylim(40, 110)\n",
    "\n",
    "plt.title('Standing wave in Impedance Tube')\n",
    "plt.ylabel('Soundpresure [dB]')\n",
    "plt.xlabel('Length [mm]')\n",
    "\n",
    "line1, = ax.plot(x*50, splge)\n",
    "line2, = ax.plot(x*50, splun)\n",
    "\n",
    "ax.legend((line1, line2,), ('damped', 'undamped'))\n",
    "\n",
    "\n",
    "def update(f = IntSlider(0, 100, 500, 1, layout=Layout(width='700px'), readout=False)):\n",
    "    \n",
    "\n",
    "    for i in range(10):\n",
    "        pos = 50 * (i+1)\n",
    "        filenamege = 'gedaempft_sweep/'+ str(pos) +'_ge.frd'\n",
    "        filenameun = 'ungedaempft_sweep/'+ str(pos) +'_un.frd'\n",
    "        \n",
    "        #readout of damped values\n",
    "        dfge = pd.read_csv(filenamege, sep='\\t', header=None, skiprows=range(0, f), nrows=1)\n",
    "        splge[i] = dfge[1]\n",
    "        \n",
    "        #readout of undamped values\n",
    "        dfun = pd.read_csv(filenameun, sep='\\t', header=None, skiprows=range(0, f), nrows=1)\n",
    "        splun[i] = dfun[1]\n",
    "    \n",
    "    print('Frequenz: ' + str(int(dfge[0])) + 'Hz')\n",
    "    line1.set_ydata(splge)\n",
    "    line2.set_ydata(splun)\n",
    "    fig.canvas.draw_idle()\n",
    "\n",
    "interact(update);"
   ]
  },
  {
   "cell_type": "markdown",
   "metadata": {},
   "source": []
  }
 ],
 "metadata": {
  "kernelspec": {
   "display_name": "Python 3",
   "language": "python",
   "name": "python3"
  },
  "language_info": {
   "codemirror_mode": {
    "name": "ipython",
    "version": 3
   },
   "file_extension": ".py",
   "mimetype": "text/x-python",
   "name": "python",
   "nbconvert_exporter": "python",
   "pygments_lexer": "ipython3",
   "version": "3.8.3"
  }
 },
 "nbformat": 4,
 "nbformat_minor": 4
}
